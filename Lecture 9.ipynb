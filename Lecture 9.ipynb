{
 "cells": [
  {
   "attachments": {
    "DegreeTutors.jpg": {
     "image/jpeg": "[encoded data removed]"
    }
   },
   "cell_type": "markdown",
   "metadata": {
    "deletable": false,
    "editable": false
   },
   "source": [
    "![DegreeTutors.jpg](attachment:DegreeTutors.jpg)\n",
    "<center>www.DegreeTutors.com</center>"
   ]
  },
  {
   "cell_type": "code",
   "execution_count": 1,
   "metadata": {},
   "outputs": [],
   "source": [
    "#DEPENDENCIES\n",
    "import math #Basic math functionality\n",
    "import numpy as np #Numpy for working with arrays \n",
    "import sympy as sym #Sympy for symbolic math"
   ]
  },
  {
   "cell_type": "markdown",
   "metadata": {},
   "source": [
    "## Evaluate [B] (symbolically)"
   ]
  },
  {
   "cell_type": "markdown",
   "metadata": {},
   "source": [
    "\\begin{equation}\n",
    "[B] = \n",
    "\\begin{bmatrix}\n",
    "1 & 0 \\\\\n",
    "0 & 0 \\\\\n",
    "0 & 1\n",
    "\\end{bmatrix}\n",
    "\\begin{bmatrix}\n",
    "J\n",
    "\\end{bmatrix}^{-1}\n",
    "\\begin{Bmatrix}\n",
    "\\frac{\\delta}{\\delta r}\\\\\n",
    "\\frac{\\delta}{\\delta s}\n",
    "\\end{Bmatrix}\n",
    "\\begin{Bmatrix}\n",
    "H_1\n",
    "\\end{Bmatrix} + \n",
    "\\begin{bmatrix}\n",
    "0 & 0 \\\\\n",
    "0 & 1 \\\\\n",
    "1 & 0\n",
    "\\end{bmatrix}\n",
    "\\begin{bmatrix}\n",
    "J\n",
    "\\end{bmatrix}^{-1}\n",
    "\\begin{Bmatrix}\n",
    "\\frac{\\delta}{\\delta r}\\\\\n",
    "\\frac{\\delta}{\\delta s}\n",
    "\\end{Bmatrix}\n",
    "\\begin{Bmatrix}\n",
    "H_2\n",
    "\\end{Bmatrix}\n",
    "\\end{equation}"
   ]
  },
  {
   "cell_type": "markdown",
   "metadata": {},
   "source": [
    "### Step 1: State nodal coords in terms of natural coords, x(r,s), y(r,s) "
   ]
  },
  {
   "cell_type": "code",
   "execution_count": 2,
   "metadata": {},
   "outputs": [
    {
     "name": "stdout",
     "output_type": "stream",
     "text": [
      "x(r,s) = -0.75*r*s + 4.25*r - 0.75*s + 6.25\n",
      "\n",
      "y(r,s) = -0.5*r*s + 0.5*r + 4.0*s + 7.0\n"
     ]
    }
   ],
   "source": [
    "#Define symbols\n",
    "s = sym.Symbol(\"s\")\n",
    "r = sym.Symbol(\"r\")\n",
    "\n",
    "#Define shape functions\n",
    "h1 = 0.25*(1+r)*(1+s)\n",
    "h2 = 0.25*(1-r)*(1+s)\n",
    "h3 = 0.25*(1-r)*(1-s)\n",
    "h4 = 0.25*(1+r)*(1-s)\n",
    "\n",
    "#Define nodal coordinates\n",
    "x1 = 9 #Top right\n",
    "x2 = 2 #Top left\n",
    "x3 = 2 #Btm left\n",
    "x4 = 12#Btm right\n",
    "\n",
    "y1 = 11 #Top right\n",
    "y2 = 11 #Top left\n",
    "y3 = 2  #Btm left\n",
    "y4 = 4  #Btm right\n",
    "\n",
    "#Element coords in terms of nodal coords using shape functions \n",
    "x = x1*h1 + x2*h2 + x3*h3 + x4*h4\n",
    "y = y1*h1 + y2*h2 + y3*h3 + y4*h4\n",
    "\n",
    "#Attempt to simplify the expressions\n",
    "x = sym.simplify(x)\n",
    "y = sym.simplify(y)\n",
    "\n",
    "print('x(r,s) = ' + str(x))\n",
    "print('')\n",
    "print('y(r,s) = ' + str(y))"
   ]
  },
  {
   "cell_type": "markdown",
   "metadata": {},
   "source": [
    "### Step 2: Calculate the Jacobian matrix, $[J]$\n",
    "\n",
    "\\begin{equation}\n",
    "[J] = \\begin{bmatrix}\n",
    "\\frac{\\delta x}{\\delta r} & \\frac{\\delta y}{\\delta r} \\\\\n",
    "\\frac{\\delta x}{\\delta s} & \\frac{\\delta y}{\\delta s}\n",
    "\\end{bmatrix}\n",
    "\\end{equation}"
   ]
  },
  {
   "cell_type": "code",
   "execution_count": 3,
   "metadata": {},
   "outputs": [
    {
     "name": "stdout",
     "output_type": "stream",
     "text": [
      "The Jacobian is: \n",
      "\n",
      "⎡-0.75⋅s + 4.25  -0.5⋅s + 0.5⎤\n",
      "⎢                            ⎥\n",
      "⎣-0.75⋅r - 0.75  -0.5⋅r + 4.0⎦\n"
     ]
    }
   ],
   "source": [
    "#Calculate the components of the Jacobian\n",
    "dxdr = sym.diff(x,r)\n",
    "dxds = sym.diff(x,s)\n",
    "dydr = sym.diff(y,r)\n",
    "dyds = sym.diff(y,s)\n",
    "\n",
    "#Build the Jacobian\n",
    "J = sym.Matrix([[dxdr, dydr],[dxds, dyds]])\n",
    "\n",
    "print('The Jacobian is: ')\n",
    "print('')\n",
    "sym.pprint(J)"
   ]
  },
  {
   "cell_type": "markdown",
   "metadata": {},
   "source": [
    "### Step 3: Calculate the inverse of the Jacobian $[J]^{-1}$"
   ]
  },
  {
   "cell_type": "code",
   "execution_count": 4,
   "metadata": {},
   "outputs": [
    {
     "name": "stdout",
     "output_type": "stream",
     "text": [
      "The inverse Jacobian is: \n",
      "\n",
      "⎡    1.0⋅(0.5⋅r - 4.0)             -0.5⋅s + 0.5      ⎤\n",
      "⎢─────────────────────────  ─────────────────────────⎥\n",
      "⎢1.75⋅r + 3.375⋅s - 17.375  1.75⋅r + 3.375⋅s - 17.375⎥\n",
      "⎢                                                    ⎥\n",
      "⎢    -(0.75⋅r + 0.75)          1.0⋅(0.75⋅s - 4.25)   ⎥\n",
      "⎢─────────────────────────  ─────────────────────────⎥\n",
      "⎣1.75⋅r + 3.375⋅s - 17.375  1.75⋅r + 3.375⋅s - 17.375⎦\n"
     ]
    }
   ],
   "source": [
    "#Calculate the inverse\n",
    "invJ = J.inv()\n",
    "\n",
    "#Attempt to simplify\n",
    "invJ = sym.simplify(invJ)\n",
    "\n",
    "print('The inverse Jacobian is: ')\n",
    "print('')\n",
    "sym.pprint(invJ)"
   ]
  },
  {
   "cell_type": "markdown",
   "metadata": {},
   "source": [
    "### Step 4: Calculate the strain-displacement matrix, $[B]$"
   ]
  },
  {
   "cell_type": "markdown",
   "metadata": {},
   "source": [
    "\\begin{equation}\n",
    "[B] = \n",
    "\\begin{bmatrix}\n",
    "1 & 0 \\\\\n",
    "0 & 0 \\\\\n",
    "0 & 1\n",
    "\\end{bmatrix}\n",
    "\\begin{bmatrix}\n",
    "J\n",
    "\\end{bmatrix}^{-1}\n",
    "\\begin{Bmatrix}\n",
    "\\frac{\\delta}{\\delta r}\\\\\n",
    "\\frac{\\delta}{\\delta s}\n",
    "\\end{Bmatrix}\n",
    "\\begin{Bmatrix}\n",
    "H_1\n",
    "\\end{Bmatrix} + \n",
    "\\begin{bmatrix}\n",
    "0 & 0 \\\\\n",
    "0 & 1 \\\\\n",
    "1 & 0\n",
    "\\end{bmatrix}\n",
    "\\begin{bmatrix}\n",
    "J\n",
    "\\end{bmatrix}^{-1}\n",
    "\\begin{Bmatrix}\n",
    "\\frac{\\delta}{\\delta r}\\\\\n",
    "\\frac{\\delta}{\\delta s}\n",
    "\\end{Bmatrix}\n",
    "\\begin{Bmatrix}\n",
    "H_2\n",
    "\\end{Bmatrix}\n",
    "\\end{equation}"
   ]
  },
  {
   "cell_type": "code",
   "execution_count": 5,
   "metadata": {},
   "outputs": [
    {
     "name": "stdout",
     "output_type": "stream",
     "text": [
      "The strain-displaceent matrix [B] is: \n",
      "\n",
      "⎡1.0⋅(0.25⋅r - 1.125⋅s - 0.875)                                    -0.25⋅r + 0\n",
      "⎢──────────────────────────────                0                   ───────────\n",
      "⎢  1.75⋅r + 3.375⋅s - 17.375                                       1.75⋅r + 3.\n",
      "⎢                                                                             \n",
      "⎢                                      -(1.25⋅r + 1.25)                       \n",
      "⎢              0                   ─────────────────────────                  \n",
      "⎢                                  1.75⋅r + 3.375⋅s - 17.375                  \n",
      "⎢                                                                             \n",
      "⎢      -(1.25⋅r + 1.25)          1.0⋅(0.25⋅r - 1.125⋅s - 0.875)  1.0⋅(1.25⋅r +\n",
      "⎢  ─────────────────────────     ──────────────────────────────  ─────────────\n",
      "⎣  1.75⋅r + 3.375⋅s - 17.375       1.75⋅r + 3.375⋅s - 17.375       1.75⋅r + 3.\n",
      "\n",
      ".875⋅s + 1.125                                           0.875⋅(-s + 1)       \n",
      "──────────────                   0                 ─────────────────────────  \n",
      "375⋅s - 17.375                                     1.75⋅r + 3.375⋅s - 17.375  \n",
      "                                                                              \n",
      "                   1.0⋅(1.25⋅r + 0.375⋅s - 0.875)                             \n",
      " 0                 ──────────────────────────────              0              \n",
      "                     1.75⋅r + 3.375⋅s - 17.375                                \n",
      "                                                                              \n",
      " 0.375⋅s - 0.875)    -0.25⋅r + 0.875⋅s + 1.125     -0.875⋅r - 0.375⋅s + 1.25  \n",
      "─────────────────    ─────────────────────────     ─────────────────────────  \n",
      "375⋅s - 17.375       1.75⋅r + 3.375⋅s - 17.375     1.75⋅r + 3.375⋅s - 17.375  \n",
      "\n",
      "                                 1.125⋅(s - 1)                                \n",
      "            0              ─────────────────────────              0           \n",
      "                           1.75⋅r + 3.375⋅s - 17.375                          \n",
      "                                                                              \n",
      "-0.875⋅r - 0.375⋅s + 1.25                                   0.875⋅(r + 1)     \n",
      "─────────────────────────              0              ────────────────────────\n",
      "1.75⋅r + 3.375⋅s - 17.375                             1.75⋅r + 3.375⋅s - 17.37\n",
      "                                                                              \n",
      "      0.875⋅(-s + 1)             0.875⋅(r + 1)              1.125⋅(s - 1)     \n",
      "─────────────────────────  ─────────────────────────  ────────────────────────\n",
      "1.75⋅r + 3.375⋅s - 17.375  1.75⋅r + 3.375⋅s - 17.375  1.75⋅r + 3.375⋅s - 17.37\n",
      "\n",
      " ⎤\n",
      " ⎥\n",
      " ⎥\n",
      " ⎥\n",
      " ⎥\n",
      "─⎥\n",
      "5⎥\n",
      " ⎥\n",
      " ⎥\n",
      "─⎥\n",
      "5⎦\n",
      "\n",
      "Shape of [B] is (3, 8)\n"
     ]
    }
   ],
   "source": [
    "#Define dH1 and dH2 (differential of H1 and H2 with respect to r and s)\n",
    "dH1 = 0.25*sym.Matrix([[(1+s),0,-(1+s),0,-(1-s),0, (1-s),0],\n",
    "                       [(1+r),0,(1-r),0,-(1-r),0,-(1+r),0]])\n",
    "\n",
    "dH2 = 0.25*sym.Matrix([[0,(1+s),0,-(1+s),0,-(1-s),0, (1-s)],\n",
    "                       [0,(1+r),0,(1-r),0,-(1-r),0,-(1+r)]])\n",
    "\n",
    "#Evaluate B\n",
    "B = sym.Matrix([[1,0],[0,0],[0,1]])*invJ*dH1 + sym.Matrix([[0,0],[0,1],[1,0]])*invJ*dH2\n",
    "\n",
    "#Attempt to simplify\n",
    "B = sym.simplify(B)\n",
    "\n",
    "print('The strain-displaceent matrix [B] is: ')\n",
    "print('')\n",
    "sym.pprint(B)\n",
    "\n",
    "print('')\n",
    "print('Shape of [B] is ' + str(B.shape))\n"
   ]
  },
  {
   "cell_type": "markdown",
   "metadata": {
    "deletable": false,
    "editable": false
   },
   "source": [
    "**<sub>Copyright &copy; 2021, S.P.Carroll. All rights reserved</sub>**"
   ]
  }
 ],
 "metadata": {
  "hide_input": false,
  "kernelspec": {
   "display_name": "Python 3",
   "language": "python",
   "name": "python3"
  },
  "language_info": {
   "codemirror_mode": {
    "name": "ipython",
    "version": 3
   },
   "file_extension": ".py",
   "mimetype": "text/x-python",
   "name": "python",
   "nbconvert_exporter": "python",
   "pygments_lexer": "ipython3",
   "version": "3.6.4"
  }
 },
 "nbformat": 4,
 "nbformat_minor": 2
}
